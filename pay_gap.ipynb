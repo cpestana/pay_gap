{
 "cells": [
  {
   "cell_type": "markdown",
   "id": "e933ced8",
   "metadata": {},
   "source": [
    "### Analyzing the Gender Pay Gap: PhD software engineers"
   ]
  },
  {
   "cell_type": "markdown",
   "id": "b59650a7",
   "metadata": {},
   "source": [
    "Import libraries "
   ]
  },
  {
   "cell_type": "code",
   "execution_count": 128,
   "id": "7c23146e",
   "metadata": {},
   "outputs": [],
   "source": [
    "import pandas as pd\n",
    "import numpy as np\n",
    "import seaborn as sns \n",
    "import scipy.stats as st "
   ]
  },
  {
   "cell_type": "markdown",
   "id": "2c44d45e",
   "metadata": {},
   "source": [
    "Using Pandas to read csv"
   ]
  },
  {
   "cell_type": "code",
   "execution_count": 129,
   "id": "e2a0e385",
   "metadata": {},
   "outputs": [],
   "source": [
    "pay_gap_df = pd.read_csv('Glassdoor Gender Pay Gap.csv')"
   ]
  },
  {
   "cell_type": "markdown",
   "id": "e4601ee6",
   "metadata": {},
   "source": [
    "Reading first five rows of data"
   ]
  },
  {
   "cell_type": "code",
   "execution_count": 130,
   "id": "092a93c5",
   "metadata": {},
   "outputs": [
    {
     "data": {
      "text/html": [
       "<div>\n",
       "<style scoped>\n",
       "    .dataframe tbody tr th:only-of-type {\n",
       "        vertical-align: middle;\n",
       "    }\n",
       "\n",
       "    .dataframe tbody tr th {\n",
       "        vertical-align: top;\n",
       "    }\n",
       "\n",
       "    .dataframe thead th {\n",
       "        text-align: right;\n",
       "    }\n",
       "</style>\n",
       "<table border=\"1\" class=\"dataframe\">\n",
       "  <thead>\n",
       "    <tr style=\"text-align: right;\">\n",
       "      <th></th>\n",
       "      <th>JobTitle</th>\n",
       "      <th>Gender</th>\n",
       "      <th>Age</th>\n",
       "      <th>PerfEval</th>\n",
       "      <th>Education</th>\n",
       "      <th>Dept</th>\n",
       "      <th>Seniority</th>\n",
       "      <th>BasePay</th>\n",
       "      <th>Bonus</th>\n",
       "    </tr>\n",
       "  </thead>\n",
       "  <tbody>\n",
       "    <tr>\n",
       "      <th>0</th>\n",
       "      <td>Graphic Designer</td>\n",
       "      <td>Female</td>\n",
       "      <td>18</td>\n",
       "      <td>5</td>\n",
       "      <td>College</td>\n",
       "      <td>Operations</td>\n",
       "      <td>2</td>\n",
       "      <td>42363</td>\n",
       "      <td>9938</td>\n",
       "    </tr>\n",
       "    <tr>\n",
       "      <th>1</th>\n",
       "      <td>Software Engineer</td>\n",
       "      <td>Male</td>\n",
       "      <td>21</td>\n",
       "      <td>5</td>\n",
       "      <td>College</td>\n",
       "      <td>Management</td>\n",
       "      <td>5</td>\n",
       "      <td>108476</td>\n",
       "      <td>11128</td>\n",
       "    </tr>\n",
       "    <tr>\n",
       "      <th>2</th>\n",
       "      <td>Warehouse Associate</td>\n",
       "      <td>Female</td>\n",
       "      <td>19</td>\n",
       "      <td>4</td>\n",
       "      <td>PhD</td>\n",
       "      <td>Administration</td>\n",
       "      <td>5</td>\n",
       "      <td>90208</td>\n",
       "      <td>9268</td>\n",
       "    </tr>\n",
       "    <tr>\n",
       "      <th>3</th>\n",
       "      <td>Software Engineer</td>\n",
       "      <td>Male</td>\n",
       "      <td>20</td>\n",
       "      <td>5</td>\n",
       "      <td>Masters</td>\n",
       "      <td>Sales</td>\n",
       "      <td>4</td>\n",
       "      <td>108080</td>\n",
       "      <td>10154</td>\n",
       "    </tr>\n",
       "    <tr>\n",
       "      <th>4</th>\n",
       "      <td>Graphic Designer</td>\n",
       "      <td>Male</td>\n",
       "      <td>26</td>\n",
       "      <td>5</td>\n",
       "      <td>Masters</td>\n",
       "      <td>Engineering</td>\n",
       "      <td>5</td>\n",
       "      <td>99464</td>\n",
       "      <td>9319</td>\n",
       "    </tr>\n",
       "  </tbody>\n",
       "</table>\n",
       "</div>"
      ],
      "text/plain": [
       "              JobTitle  Gender  Age  PerfEval Education            Dept  \\\n",
       "0     Graphic Designer  Female   18         5   College      Operations   \n",
       "1    Software Engineer    Male   21         5   College      Management   \n",
       "2  Warehouse Associate  Female   19         4       PhD  Administration   \n",
       "3    Software Engineer    Male   20         5   Masters           Sales   \n",
       "4     Graphic Designer    Male   26         5   Masters     Engineering   \n",
       "\n",
       "   Seniority  BasePay  Bonus  \n",
       "0          2    42363   9938  \n",
       "1          5   108476  11128  \n",
       "2          5    90208   9268  \n",
       "3          4   108080  10154  \n",
       "4          5    99464   9319  "
      ]
     },
     "execution_count": 130,
     "metadata": {},
     "output_type": "execute_result"
    }
   ],
   "source": [
    "pay_gap_df.head()"
   ]
  },
  {
   "cell_type": "markdown",
   "id": "565030db",
   "metadata": {},
   "source": [
    "Printing information about the DataFrame"
   ]
  },
  {
   "cell_type": "code",
   "execution_count": 131,
   "id": "24dde377",
   "metadata": {},
   "outputs": [
    {
     "name": "stdout",
     "output_type": "stream",
     "text": [
      "<class 'pandas.core.frame.DataFrame'>\n",
      "RangeIndex: 1000 entries, 0 to 999\n",
      "Data columns (total 9 columns):\n",
      " #   Column     Non-Null Count  Dtype \n",
      "---  ------     --------------  ----- \n",
      " 0   JobTitle   1000 non-null   object\n",
      " 1   Gender     1000 non-null   object\n",
      " 2   Age        1000 non-null   int64 \n",
      " 3   PerfEval   1000 non-null   int64 \n",
      " 4   Education  1000 non-null   object\n",
      " 5   Dept       1000 non-null   object\n",
      " 6   Seniority  1000 non-null   int64 \n",
      " 7   BasePay    1000 non-null   int64 \n",
      " 8   Bonus      1000 non-null   int64 \n",
      "dtypes: int64(5), object(4)\n",
      "memory usage: 70.4+ KB\n"
     ]
    }
   ],
   "source": [
    "pay_gap_df.info()"
   ]
  },
  {
   "cell_type": "markdown",
   "id": "65ab8f48",
   "metadata": {},
   "source": [
    "Combining BasePay and Bonus to create TotalPay column "
   ]
  },
  {
   "cell_type": "code",
   "execution_count": 132,
   "id": "e333ea7c",
   "metadata": {},
   "outputs": [],
   "source": [
    "pay_gap_df['TotalPay'] = pay_gap_df['BasePay'] + pay_gap_df['Bonus']"
   ]
  },
  {
   "cell_type": "markdown",
   "id": "a1a7d25b",
   "metadata": {},
   "source": [
    "Viewing job titles "
   ]
  },
  {
   "cell_type": "code",
   "execution_count": 133,
   "id": "a221b31a",
   "metadata": {},
   "outputs": [
    {
     "name": "stdout",
     "output_type": "stream",
     "text": [
      "Job Title:\n"
     ]
    },
    {
     "data": {
      "text/plain": [
       "Marketing Associate    118\n",
       "Software Engineer      109\n",
       "Financial Analyst      107\n",
       "Data Scientist         107\n",
       "Graphic Designer        98\n",
       "IT                      96\n",
       "Sales Associate         94\n",
       "Driver                  91\n",
       "Warehouse Associate     90\n",
       "Manager                 90\n",
       "Name: JobTitle, dtype: int64"
      ]
     },
     "execution_count": 133,
     "metadata": {},
     "output_type": "execute_result"
    }
   ],
   "source": [
    "print('Job Title:')\n",
    "pay_gap_df.JobTitle.value_counts()"
   ]
  },
  {
   "cell_type": "markdown",
   "id": "a423fdd7",
   "metadata": {},
   "source": [
    "Viewing all education values"
   ]
  },
  {
   "cell_type": "code",
   "execution_count": 134,
   "id": "21d48845",
   "metadata": {},
   "outputs": [
    {
     "name": "stdout",
     "output_type": "stream",
     "text": [
      "Education:\n"
     ]
    },
    {
     "data": {
      "text/plain": [
       "High School    265\n",
       "Masters        256\n",
       "College        241\n",
       "PhD            238\n",
       "Name: Education, dtype: int64"
      ]
     },
     "execution_count": 134,
     "metadata": {},
     "output_type": "execute_result"
    }
   ],
   "source": [
    "print('Education:')\n",
    "pay_gap_df.Education.value_counts()"
   ]
  },
  {
   "cell_type": "markdown",
   "id": "9e62cf8b",
   "metadata": {},
   "source": [
    "Viewing just Software Engineers, dropping other values in JobTitle column"
   ]
  },
  {
   "cell_type": "code",
   "execution_count": 135,
   "id": "1379e38f",
   "metadata": {},
   "outputs": [],
   "source": [
    "values = ['Marketing Associate', 'Financial Analyst','Graphic Designer','Warehouse Associate', 'Data Scientist'\n",
    ", 'IT', 'Sales Associate', 'Driver', 'Manager']\n",
    "\n",
    "pay_gap_df = pay_gap_df[pay_gap_df.JobTitle.isin(values) == False]"
   ]
  },
  {
   "cell_type": "markdown",
   "id": "bc5eade0",
   "metadata": {},
   "source": [
    "Viewing just PhD employees, dropping other values in Education column"
   ]
  },
  {
   "cell_type": "code",
   "execution_count": 136,
   "id": "90e2f66b",
   "metadata": {},
   "outputs": [],
   "source": [
    "values = ['Masters', 'High School','College']\n",
    "\n",
    "pay_gap_df = pay_gap_df[pay_gap_df.Education.isin(values) == False]"
   ]
  },
  {
   "cell_type": "markdown",
   "id": "f744eb4c",
   "metadata": {},
   "source": [
    "Checking that values dropped"
   ]
  },
  {
   "cell_type": "code",
   "execution_count": 137,
   "id": "8c8a9487",
   "metadata": {},
   "outputs": [
    {
     "data": {
      "text/html": [
       "<div>\n",
       "<style scoped>\n",
       "    .dataframe tbody tr th:only-of-type {\n",
       "        vertical-align: middle;\n",
       "    }\n",
       "\n",
       "    .dataframe tbody tr th {\n",
       "        vertical-align: top;\n",
       "    }\n",
       "\n",
       "    .dataframe thead th {\n",
       "        text-align: right;\n",
       "    }\n",
       "</style>\n",
       "<table border=\"1\" class=\"dataframe\">\n",
       "  <thead>\n",
       "    <tr style=\"text-align: right;\">\n",
       "      <th></th>\n",
       "      <th>JobTitle</th>\n",
       "      <th>Gender</th>\n",
       "      <th>Age</th>\n",
       "      <th>PerfEval</th>\n",
       "      <th>Education</th>\n",
       "      <th>Dept</th>\n",
       "      <th>Seniority</th>\n",
       "      <th>BasePay</th>\n",
       "      <th>Bonus</th>\n",
       "      <th>TotalPay</th>\n",
       "    </tr>\n",
       "  </thead>\n",
       "  <tbody>\n",
       "    <tr>\n",
       "      <th>776</th>\n",
       "      <td>Software Engineer</td>\n",
       "      <td>Male</td>\n",
       "      <td>62</td>\n",
       "      <td>2</td>\n",
       "      <td>PhD</td>\n",
       "      <td>Engineering</td>\n",
       "      <td>3</td>\n",
       "      <td>138184</td>\n",
       "      <td>4664</td>\n",
       "      <td>142848</td>\n",
       "    </tr>\n",
       "    <tr>\n",
       "      <th>796</th>\n",
       "      <td>Software Engineer</td>\n",
       "      <td>Female</td>\n",
       "      <td>36</td>\n",
       "      <td>1</td>\n",
       "      <td>PhD</td>\n",
       "      <td>Management</td>\n",
       "      <td>1</td>\n",
       "      <td>79177</td>\n",
       "      <td>3661</td>\n",
       "      <td>82838</td>\n",
       "    </tr>\n",
       "    <tr>\n",
       "      <th>804</th>\n",
       "      <td>Software Engineer</td>\n",
       "      <td>Male</td>\n",
       "      <td>64</td>\n",
       "      <td>2</td>\n",
       "      <td>PhD</td>\n",
       "      <td>Engineering</td>\n",
       "      <td>4</td>\n",
       "      <td>139068</td>\n",
       "      <td>4126</td>\n",
       "      <td>143194</td>\n",
       "    </tr>\n",
       "    <tr>\n",
       "      <th>806</th>\n",
       "      <td>Software Engineer</td>\n",
       "      <td>Male</td>\n",
       "      <td>55</td>\n",
       "      <td>2</td>\n",
       "      <td>PhD</td>\n",
       "      <td>Management</td>\n",
       "      <td>3</td>\n",
       "      <td>121910</td>\n",
       "      <td>4494</td>\n",
       "      <td>126404</td>\n",
       "    </tr>\n",
       "    <tr>\n",
       "      <th>932</th>\n",
       "      <td>Software Engineer</td>\n",
       "      <td>Male</td>\n",
       "      <td>60</td>\n",
       "      <td>1</td>\n",
       "      <td>PhD</td>\n",
       "      <td>Administration</td>\n",
       "      <td>4</td>\n",
       "      <td>127250</td>\n",
       "      <td>4263</td>\n",
       "      <td>131513</td>\n",
       "    </tr>\n",
       "  </tbody>\n",
       "</table>\n",
       "</div>"
      ],
      "text/plain": [
       "              JobTitle  Gender  Age  PerfEval Education            Dept  \\\n",
       "776  Software Engineer    Male   62         2       PhD     Engineering   \n",
       "796  Software Engineer  Female   36         1       PhD      Management   \n",
       "804  Software Engineer    Male   64         2       PhD     Engineering   \n",
       "806  Software Engineer    Male   55         2       PhD      Management   \n",
       "932  Software Engineer    Male   60         1       PhD  Administration   \n",
       "\n",
       "     Seniority  BasePay  Bonus  TotalPay  \n",
       "776          3   138184   4664    142848  \n",
       "796          1    79177   3661     82838  \n",
       "804          4   139068   4126    143194  \n",
       "806          3   121910   4494    126404  \n",
       "932          4   127250   4263    131513  "
      ]
     },
     "execution_count": 137,
     "metadata": {},
     "output_type": "execute_result"
    }
   ],
   "source": [
    "pay_gap_df.tail()"
   ]
  },
  {
   "cell_type": "code",
   "execution_count": 138,
   "id": "a04ce96f",
   "metadata": {
    "scrolled": true
   },
   "outputs": [
    {
     "data": {
      "text/html": [
       "<div>\n",
       "<style scoped>\n",
       "    .dataframe tbody tr th:only-of-type {\n",
       "        vertical-align: middle;\n",
       "    }\n",
       "\n",
       "    .dataframe tbody tr th {\n",
       "        vertical-align: top;\n",
       "    }\n",
       "\n",
       "    .dataframe thead th {\n",
       "        text-align: right;\n",
       "    }\n",
       "</style>\n",
       "<table border=\"1\" class=\"dataframe\">\n",
       "  <thead>\n",
       "    <tr style=\"text-align: right;\">\n",
       "      <th></th>\n",
       "      <th>Age</th>\n",
       "      <th>PerfEval</th>\n",
       "      <th>Seniority</th>\n",
       "      <th>BasePay</th>\n",
       "      <th>Bonus</th>\n",
       "      <th>TotalPay</th>\n",
       "    </tr>\n",
       "  </thead>\n",
       "  <tbody>\n",
       "    <tr>\n",
       "      <th>count</th>\n",
       "      <td>26.000000</td>\n",
       "      <td>26.000000</td>\n",
       "      <td>26.000000</td>\n",
       "      <td>26.000000</td>\n",
       "      <td>26.000000</td>\n",
       "      <td>26.000000</td>\n",
       "    </tr>\n",
       "    <tr>\n",
       "      <th>mean</th>\n",
       "      <td>41.115385</td>\n",
       "      <td>3.423077</td>\n",
       "      <td>3.230769</td>\n",
       "      <td>110309.846154</td>\n",
       "      <td>7213.730769</td>\n",
       "      <td>117523.576923</td>\n",
       "    </tr>\n",
       "    <tr>\n",
       "      <th>std</th>\n",
       "      <td>15.958263</td>\n",
       "      <td>1.419100</td>\n",
       "      <td>1.422890</td>\n",
       "      <td>24173.020729</td>\n",
       "      <td>2173.493640</td>\n",
       "      <td>23613.123789</td>\n",
       "    </tr>\n",
       "    <tr>\n",
       "      <th>min</th>\n",
       "      <td>18.000000</td>\n",
       "      <td>1.000000</td>\n",
       "      <td>1.000000</td>\n",
       "      <td>68466.000000</td>\n",
       "      <td>3661.000000</td>\n",
       "      <td>76850.000000</td>\n",
       "    </tr>\n",
       "    <tr>\n",
       "      <th>25%</th>\n",
       "      <td>27.250000</td>\n",
       "      <td>2.000000</td>\n",
       "      <td>2.000000</td>\n",
       "      <td>89649.000000</td>\n",
       "      <td>4715.750000</td>\n",
       "      <td>98940.750000</td>\n",
       "    </tr>\n",
       "    <tr>\n",
       "      <th>50%</th>\n",
       "      <td>39.500000</td>\n",
       "      <td>4.000000</td>\n",
       "      <td>3.500000</td>\n",
       "      <td>107948.500000</td>\n",
       "      <td>7870.500000</td>\n",
       "      <td>116433.500000</td>\n",
       "    </tr>\n",
       "    <tr>\n",
       "      <th>75%</th>\n",
       "      <td>55.750000</td>\n",
       "      <td>5.000000</td>\n",
       "      <td>4.000000</td>\n",
       "      <td>131429.750000</td>\n",
       "      <td>8858.500000</td>\n",
       "      <td>138980.000000</td>\n",
       "    </tr>\n",
       "    <tr>\n",
       "      <th>max</th>\n",
       "      <td>64.000000</td>\n",
       "      <td>5.000000</td>\n",
       "      <td>5.000000</td>\n",
       "      <td>157277.000000</td>\n",
       "      <td>10240.000000</td>\n",
       "      <td>162121.000000</td>\n",
       "    </tr>\n",
       "  </tbody>\n",
       "</table>\n",
       "</div>"
      ],
      "text/plain": [
       "             Age   PerfEval  Seniority        BasePay         Bonus  \\\n",
       "count  26.000000  26.000000  26.000000      26.000000     26.000000   \n",
       "mean   41.115385   3.423077   3.230769  110309.846154   7213.730769   \n",
       "std    15.958263   1.419100   1.422890   24173.020729   2173.493640   \n",
       "min    18.000000   1.000000   1.000000   68466.000000   3661.000000   \n",
       "25%    27.250000   2.000000   2.000000   89649.000000   4715.750000   \n",
       "50%    39.500000   4.000000   3.500000  107948.500000   7870.500000   \n",
       "75%    55.750000   5.000000   4.000000  131429.750000   8858.500000   \n",
       "max    64.000000   5.000000   5.000000  157277.000000  10240.000000   \n",
       "\n",
       "            TotalPay  \n",
       "count      26.000000  \n",
       "mean   117523.576923  \n",
       "std     23613.123789  \n",
       "min     76850.000000  \n",
       "25%     98940.750000  \n",
       "50%    116433.500000  \n",
       "75%    138980.000000  \n",
       "max    162121.000000  "
      ]
     },
     "execution_count": 138,
     "metadata": {},
     "output_type": "execute_result"
    }
   ],
   "source": [
    "pay_gap_df.describe()"
   ]
  },
  {
   "cell_type": "markdown",
   "id": "b47aa808",
   "metadata": {},
   "source": [
    "Calculated mean salary for PhD male and female software engineers. According to the calculations, men make on average $23,000 more than their female counterparts. "
   ]
  },
  {
   "cell_type": "code",
   "execution_count": 139,
   "id": "0b72464e",
   "metadata": {},
   "outputs": [
    {
     "name": "stdout",
     "output_type": "stream",
     "text": [
      "   Gender       TotalPay\n",
      "0  Female   96535.333333\n",
      "1    Male  120261.173913\n"
     ]
    }
   ],
   "source": [
    "gender_mean_salary = pay_gap_df.groupby(['Gender'], as_index=False).TotalPay.mean()\n",
    "print(gender_mean_salary)"
   ]
  },
  {
   "cell_type": "markdown",
   "id": "2fddfa5d",
   "metadata": {},
   "source": [
    "Creating gender subsets: male and female "
   ]
  },
  {
   "cell_type": "code",
   "execution_count": 140,
   "id": "8a82d68d",
   "metadata": {},
   "outputs": [],
   "source": [
    "male = pay_gap_df[pay_gap_df.Gender == 'Male']\n",
    "female = pay_gap_df[pay_gap_df.Gender == 'Female']"
   ]
  },
  {
   "cell_type": "markdown",
   "id": "6b29cb22",
   "metadata": {},
   "source": [
    "Performing two-sample t-test"
   ]
  },
  {
   "cell_type": "code",
   "execution_count": 141,
   "id": "85eb73d8",
   "metadata": {},
   "outputs": [
    {
     "name": "stdout",
     "output_type": "stream",
     "text": [
      "Ttest_indResult(statistic=1.69729446348793, pvalue=0.10257343563780903)\n"
     ]
    }
   ],
   "source": [
    "print(st.ttest_ind(male['TotalPay'], female['TotalPay']))"
   ]
  },
  {
   "cell_type": "markdown",
   "id": "775c07ba",
   "metadata": {},
   "source": [
    "The larger the absolute value of the t-value, the smaller the p-value, and the greater the evidence against the null hypothesis. Reject the null hypothesis that means are same. "
   ]
  },
  {
   "cell_type": "code",
   "execution_count": 142,
   "id": "66a36b3f",
   "metadata": {},
   "outputs": [
    {
     "data": {
      "text/plain": [
       "<AxesSubplot:xlabel='Gender', ylabel='TotalPay'>"
      ]
     },
     "execution_count": 142,
     "metadata": {},
     "output_type": "execute_result"
    },
    {
     "data": {
      "image/png": "[encoded data removed]",
      "text/plain": [
       "<Figure size 432x288 with 1 Axes>"
      ]
     },
     "metadata": {
      "needs_background": "light"
     },
     "output_type": "display_data"
    }
   ],
   "source": [
    "sns.boxplot(x='Gender', y='TotalPay', data=pay_gap_df)"
   ]
  },
  {
   "cell_type": "markdown",
   "id": "38750ecb",
   "metadata": {},
   "source": [
    "A boxplot graph to show how data is spread out among the PhD Male and Female software engineers. "
   ]
  },
  {
   "cell_type": "code",
   "execution_count": null,
   "id": "206be029",
   "metadata": {},
   "outputs": [],
   "source": []
  }
 ],
 "metadata": {
  "kernelspec": {
   "display_name": "Python 3 (ipykernel)",
   "language": "python",
   "name": "python3"
  },
  "language_info": {
   "codemirror_mode": {
    "name": "ipython",
    "version": 3
   },
   "file_extension": ".py",
   "mimetype": "text/x-python",
   "name": "python",
   "nbconvert_exporter": "python",
   "pygments_lexer": "ipython3",
   "version": "3.9.12"
  }
 },
 "nbformat": 4,
 "nbformat_minor": 5
}
